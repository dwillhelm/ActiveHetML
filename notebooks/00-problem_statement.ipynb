{
 "cells": [
  {
   "cell_type": "markdown",
   "metadata": {},
   "source": [
    "\n",
    "I use a previously developed code to import the dataset and perform several preprocessing steps - such as filtering, encoding categorical data, and building custom features based on theoretical knowledge of these materials.  The preprocessing steps yield 91 features, but I reduce those to only (the best) 10 to keep things simple. \n",
    "\n",
    "For this demo, I will build a model to predict the ionization energy (IE) of a 2D vdW heterostructure. The IE is the minimum energy required to remove the most loosely bound electron from the material. \n",
    "\n",
    "X &rarr; X<sup>+</sup> + e<sup>-</sup>\n",
    "\n",
    "From a band structure perspective, the IE is also the valence band maximum (VBM) (or the HOMO level) with respect to the vacuum energy. The relative positions of the band edges can have important implications for material properties and applications."
   ]
  }
 ],
 "metadata": {
  "language_info": {
   "name": "python"
  },
  "orig_nbformat": 4
 },
 "nbformat": 4,
 "nbformat_minor": 2
}
